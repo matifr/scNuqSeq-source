{
 "cells": [
  {
   "cell_type": "markdown",
   "metadata": {},
   "source": [
    "# Notes"
   ]
  },
  {
   "cell_type": "markdown",
   "metadata": {},
   "source": [
    "## Data access "
   ]
  },
  {
   "cell_type": "markdown",
   "metadata": {},
   "source": [
    "Link = https://583643567512.signin.aws.amazon.com/console\n",
    "\n",
    "- Username = geissmaf\n",
    "- Password = Pv5e1I31\n",
    "\n",
    "Go to folfer **Seqc_results/** this is where the results of the pipeline are found. For each sample sequenced download the following files\n",
    "1. *_dense.txt -> Cell x Gene UMI matrix\n",
    "2. *_sparce_molecule_counts.mtx -> raw counts, no filtering\n",
    "3. *_summary.tar.gz -> QC results\n",
    "\n",
    "For each sample create a folder with the name of the sample and put all 3 samples. \n",
    "- Create and **input/** and **output/** folder\n"
   ]
  },
  {
   "cell_type": "markdown",
   "metadata": {},
   "source": [
    "## ScRNAseq theory and comments"
   ]
  },
  {
   "cell_type": "markdown",
   "metadata": {},
   "source": [
    "Library size of a cell is the number of unique molecules (UMI) detected in that cell."
   ]
  },
  {
   "cell_type": "markdown",
   "metadata": {},
   "source": [
    "### Phenograph"
   ]
  },
  {
   "cell_type": "markdown",
   "metadata": {},
   "source": [
    "Phenograph models high dimensional space insing a NN graph. Each cell is a node, connected by esges to each similar cell. Then it partitions the graph into communities of cell using Jaccard similarity coefficient.\n"
   ]
  },
  {
   "cell_type": "markdown",
   "metadata": {},
   "source": [
    "__How it works__"
   ]
  },
  {
   "cell_type": "markdown",
   "metadata": {},
   "source": [
    "Takes as input a matrix ofNsingle-cell measurements and parti-tions them into subpopulations by clustering a graph that represents theirphenotypic similarity. \n",
    "1. It finds the k-nearest neighbors for each cell (using Euclidean distance), resulting inNsets of k-neighborhoods\n",
    "2. Refine the k-neighborhoods defined in the first step, using Jaccard similarity coeffiecient.  In this metric, the similarity between two cells reaches a maximum when their k-neighborhoods are identical\n",
    "and decreases with the number of neighbors they share. Thus, the metric incorporates the structure of the data distribution into the weights, reinforcing edges in dense regions and penalizing edges that span sparse regions. \n",
    "\n",
    "One such approximation, called the **Louvain Method** (Blondel et al., 2008), has become popular due to its efficiency on large graphs containing hundreds of millions of nodes. This method is hierarchical and agglomerative. At the beginning of the first iteration, every node (cell) is placed into its own cluster. At each iteration, neighboring nodes are merged into clusters for all pairs whose mergers yield the largest increase in overall modularity (𝑄) of the graph. This process is repeated hierarchically (representing bottom-level clusters as nodes in the next iteration, etc.) until no further increase in 𝑄 is obtained.\n",
    "\n",
    "PhenoGraph uses the Louvain Method to maximize the modularity of its partitions. Specifically, PhenoGraph runs multiple random restarts of the Louvain Method, choosing a final partition in which the modularity reaches a maximum among all solutions."
   ]
  },
  {
   "cell_type": "markdown",
   "metadata": {},
   "source": [
    "**PhenoGraph is robust to random resampling of the data and a wide range of values for the single parameter k**"
   ]
  },
  {
   "cell_type": "markdown",
   "metadata": {},
   "source": [
    "### Visualization "
   ]
  },
  {
   "cell_type": "markdown",
   "metadata": {},
   "source": [
    "**TNSE** \n",
    "\n",
    "The most common dimensionality reduction method for scRNA-seq visualization is the t-distributed stochastic neighbour embedding (t-SNE; van der Maaten & Hinton, 2008). t-SNE dimensions focus on capturing local similarity at the expense of global structure. Thus, these visualiza- tions may exaggerate differences between cell populations and over- look potential connections between these populations. A further difficulty is the choice of its perplexity parameter, as t-SNE graphs may show strongly different numbers of clusters depending on its value (Wattenberg et al, 2016). \n",
    "\n",
    "**UMAP**\n",
    "\n",
    "Common alternatives to t-SNE are the Uniform Approximation and Projection method (UMAP; preprint: McInnes & Healy, 2018) or graph-based tools such as SPRING (Weinreb et al, 2018). UMAP and SPRING’s force-directed layout algorithm ForceAtlas2 arguably represent the best approxi- mation of the underlying topology (Wolf et al, 2019, Supplemental Note 4). What sets UMAP apart in this comparison is its speed and ability to scale to large numbers of cells (Becht et al, 2018). Thus, in the absence of particular biological questions, we regard UMAP as best practice for exploratory data visualization. Moreover, UMAP can also summarize data in more than two dimensions. While we are not aware of any applications of UMAP for data summarization, it may prove a suitable alternative to PCA."
   ]
  },
  {
   "cell_type": "markdown",
   "metadata": {},
   "source": [
    "# Questions"
   ]
  },
  {
   "cell_type": "markdown",
   "metadata": {},
   "source": [
    "- In the immune cell cluster I have cells that have genes that are highly expressed in neurons or glia; what do I do with those?"
   ]
  },
  {
   "cell_type": "markdown",
   "metadata": {},
   "source": [
    "# Plan for the analysis"
   ]
  },
  {
   "cell_type": "markdown",
   "metadata": {},
   "source": [
    "## Analyze CONTROL samples first"
   ]
  },
  {
   "cell_type": "markdown",
   "metadata": {},
   "source": [
    "1. Load only the control samples \n",
    "2. Quality control \n",
    "3. Normalization\n",
    "4. Clusters\n",
    "5. Markers"
   ]
  },
  {
   "cell_type": "markdown",
   "metadata": {},
   "source": [
    "## Analyze VE samples next\n"
   ]
  },
  {
   "cell_type": "markdown",
   "metadata": {},
   "source": [
    "1. Load only the control samples \n",
    "2. Quality control \n",
    "3. Normalization\n",
    "4. Clusters\n",
    "5. Markers"
   ]
  },
  {
   "cell_type": "markdown",
   "metadata": {},
   "source": [
    "## CTRL + Normal"
   ]
  },
  {
   "cell_type": "raw",
   "metadata": {},
   "source": [
    "marker_genes = dict()\n",
    "# immune cells \n",
    "marker_genes['Microglia'] = ['CX3CR1', 'P2RY12', 'CCR6'] #  'HEXB', 'CST3'\n",
    "marker_genes['Microglia activated'] = ['TMEM119', 'CASP8'] # 'CCL4', 'TNF'\n",
    "marker_genes['monocytes'] = ['PLAC8']\n",
    "marker_genes['perivascular macrophages'] = ['PF4', 'CD74']\n",
    "marker_genes['perivascular macrophages activated'] = ['PF4'] # 'CXCL2'\n",
    "marker_genes['dendritic cells'] = ['CD209A']\n",
    "marker_genes['granulocytes'] = ['S100A6']\n",
    "marker_genes['neutrophils'] = ['S100A9']\n",
    "marker_genes['T cells'] = ['CD3']\n",
    "\n",
    "#Glia\n",
    "marker_genes['Oligodendrocyte precursor cells (OPC)'] = ['PDGFRA', 'C1QL1']\n",
    "marker_genes['newly formed oligodendrocytes pons/medulla specific'] = ['TMEM2', 'GM26834']\n",
    "marker_genes['Oligodendrocytes'] = ['CLDN11']\n",
    "marker_genes['mature oligodendrocytes'] = ['OPALIN', 'NINJ2']\n",
    "marker_genes['mature oligodendrocytes hindbrain'] = ['HAPLN2', 'DOCK5']\n",
    "marker_genes['olfactory ensheathing glia (OEG)'] = ['NPY', 'PRSS56', 'MGST1']\n",
    "marker_genes['astrocyte-restricted precursors (ARP)'] = ['CD44']\n",
    "marker_genes['Astrocytes'] = ['GJA1']\n",
    "marker_genes['astrocytes fibrous'] = ['AGT', 'APOC1']\n",
    "marker_genes['astrocytes protoplasmic'] = ['SLC7A10 ', 'MFSD2A']\n",
    "marker_genes['telencephalon astrocytes fibrous'] = ['FAM107A', 'CBS']\n",
    "marker_genes['telencephalon astrocytes protoplasmic'] = ['PPP1R3G', 'GM11627']\n",
    "marker_genes['Midbrain Dorsal astrocyte like'] = ['MYOC', 'GFAP']\n",
    "marker_genes['Bergmann glia'] = ['GDF10 ', 'TIMP4']\n",
    "marker_genes['ependymal cells'] = ['CDDC153', 'KRT15']\n",
    "marker_genes['hypendymal cells'] = ['SSPO']\n",
    "marker_genes['tanycytes'] = ['RAX']\n",
    "\n",
    "#Epithelial cells\n",
    "marker_genes['neuroendocrine cells'] = ['BAIAP3']\n",
    "marker_genes['choroid plexus epithelial cells '] = ['TTR']\n",
    "\n",
    "#vascular\n",
    "marker_genes['endothelial cells'] = ['IGF2', 'SEMA3G', 'GKN3']\n",
    "marker_genes['vascular endothelial cells arterial'] = ['LY6C1', \"SCGB3A1\"]\n",
    "marker_genes['vascular endothelial cells capillary'] = ['ECSCR', \"GADD45A\"]\n",
    "marker_genes['pericytes'] = ['KCNJ8', \"HIGD1B\", 'DEGS2', 'NDUFA4L2', 'RGS5', 'FLT1', 'ANPEP']\n",
    "marker_genes['vascular smooth muscle cells'] = ['ACTA2', 'MUSTN1']\n",
    "marker_genes['hemoglobin expressing vascular cells'] = ['ALAS2']\n",
    "marker_genes['vascular leptomeningeal cells'] = ['DCN', 'FAM180A', 'SLC6A13', 'PTGDS', 'MGP', 'SLC47A1', 'DAPL1']\n",
    "marker_genes['arachnoid barrier cells'] = ['SLC47A1']\n",
    "\n",
    "# Neurons\n",
    "marker_genes['Neural stem cells (NSC)'] = ['THBS4']\n",
    "marker_genes['Neuronal restricted precursors (NRP)'] = ['CDK1']\n",
    "marker_genes['immature neurons'] = ['SOX11']\n",
    "marker_genes['mature neurons'] = ['SYT1']\n",
    "\n",
    "# Hindbrain Neurons\n",
    "marker_genes['hindbrain medulla cholinergic'] = ['ST8SIA6', 'ADGRG2', 'MDGA1']\n",
    "marker_genes['hindbrain pons cholinergic'] = ['GPX2', 'DEFA24', 'AF529169']\n",
    "marker_genes['excitatory neurons medulla Medial vestibular nucleus and Nucleus prepositus'] = ['GPX2', 'OLFM2', 'KLHL1']\n",
    "marker_genes['excitatory neurons medulla Spinal nucleus of the trigeminal'] = ['KCNG4', 'HTR1B', 'GLRA1']\n",
    "marker_genes['excitatory neurons pons Pontine reticular nucleus'] = ['IRX2', 'LY6D', 'FCMR']\n",
    "marker_genes['excitatory neurons pons Inferior olivary complex'] = ['POU4F1', 'HTR5B', 'RIMS4']\n",
    "marker_genes['excitatory neurons pons Pontine gray'] = ['IRX2', 'HOXC5', 'ESRRG']\n",
    "marker_genes['excitatory neurons pons Tegmental reticular nucleus'] = ['IRX2', 'MREG', 'ESRRG', 'SPP1', 'CYP2S1', 'NEFH']\n",
    "marker_genes['inhibitory neurons Medulla Paragigantocellular reticular nucleus'] = ['HOXB5', 'NHLH2', 'EBF3', 'SEMA3A', 'ESRRG']\n",
    "marker_genes['inhibitory neurons Medulla Spinal nucleus of the trigeminal'] = ['SLC6A5', 'LINGO4', 'SALL3']\n",
    "marker_genes['inhibitory neurons Pons Koelliker-Fuse subnucleus'] = ['NXPH4', 'TMEM72', 'GPR139']\n",
    "marker_genes['inhibitory neurons Pons Superior olivary complex'] = ['SLC6A5', 'STAC2', 'VAMP1']\n",
    "marker_genes['inhibitory neurons Spinal cord'] = ['CRABP1', 'TNFRSF13C', 'SALL3']\n"
   ]
  },
  {
   "cell_type": "raw",
   "metadata": {},
   "source": [
    "\n",
    "marker_genes['Glia'] = ['TIMP4','GFAP', 'SLC7A10','MFSD2A','AGT','SLC6A11','CBS','FAM107A', #Astrocytes\n",
    "                       'TTR','FOLR1','CLIC6', #Choroid epithelial cells\n",
    "                       'HOPX', # Dentate gyrus radial glia-like cells\n",
    "                        'NEU4','RINL', 'CCP110','SNX33','OPALIN','NINJ2', #olygodendrocytes (OPC)\n",
    "                        'HAPLN2','DOCK5','KLK6','CNKSR3','TMEM2',\n",
    "                       'LUM','PARP14','COL12A1', # Neural crest-like glia\n",
    "                       'PDGFRA', 'C1QL1','TEX40','FBLN2','NCMAP',\n",
    "                       'LRRN1','ROR2', # radial glia development paper\n",
    "                        'MATN4','SCRG1','PLLP','GPR37L1','OLIG1','OLIG2','SOX10', # OPC dev paper\n",
    "                       \"SFRP5\", # Swann cells dev paper\n",
    "                        'ALX3','ALX4','CPED1',  #neural crest dev atlas\n",
    "                        'PLA2G7','SEMA4B','PPP1R3C', 'CYP2J9','ATP1B2', # astrocytes from dev paper\n",
    "                        'ALDOC','ATP1A2','GPR37L1','MT3','SLC1A3','PLA2G7' # Astrocytes form MC\n",
    "                       'MBP','MOBP','PTGDS']# Oligo MCA\n",
    "                       \n",
    "glia_marker_genes['Enteric_glia'] = ['DPT', 'SPON2', 'LUM', 'CENPF' ,'CKS2', 'HSPA1A' ,'CASP4' ,'PARP14', 'FAM198B' ,'OLFML2A' ,'SCN7A', 'COL18A1' ,'LBP' ,'H2-Q7' ,'COL12A1']\n",
    "glia_marker_genes['SATG'] = ['CDC20','TEX40', 'FBLN2' ,'CEACAM10']\n",
    "glia_marker_genes['SCHW'] = ['NCMAP', 'SFRP5']\n",
    "#glia_marker_genes['MFOL'] = ['CCP110', 'SNX33', '2210011C24RIK', 'WFDC18', 'TMEM141'] \n",
    "#glia_marker_genes['MOL'] = ['OPALIN','NINJ2','HAPLN2', 'DOCK5','KLK6','NKX2-9'] \n"
   ]
  },
  {
   "cell_type": "raw",
   "metadata": {},
   "source": [
    "#immune_marker_genes['Microglia'] = ['CX3CR1', 'P2RY12', 'CCR6','CASP4','CXCL12','CD86','CD14','TMEM119', 'CASP8','C1QA'] # miroglia\n",
    "#immune_marker_genes['Macrophages'] = ['HEXB','C1QC','CTSS','C1QB','SIGLECH','GPR34','FCRLS', 'PF4', 'CD74'] #macrophages MCA  \n",
    "#immune_marker_genes['NK-t-cells'] = ['ZAP70','SKAP1','CD247']\n",
    "#immune_marker_genes['ARM'] = ['CST7','ITGAX','CD74','H2-AB1','H2-AA','DKK2','GPNMB','SPP1','CTSB','CTSD'] \n",
    "#immune_marker_genes['TRM'] = ['IFIT2','IFIT3','IFITM3','IRF7','OASL2'] \n",
    "#immune_marker_genes['CPM'] = ['TOP2A','MCM2','TUBB5','MKI67','CDK1'] \n",
    "#immune_marker_genes['infl_macs'] = ['CCL4','IL1B','LPL','FAM20C','CST7','CSF1','CCL3','LGALS3','ID2','ATF3'] \n",
    "#immune_marker_genes['INTER_macs'] = ['IFITM3','RTP4','OASL2'] "
   ]
  },
  {
   "cell_type": "markdown",
   "metadata": {},
   "source": [
    "# My list"
   ]
  },
  {
   "cell_type": "code",
   "execution_count": 12,
   "metadata": {
    "scrolled": true
   },
   "outputs": [],
   "source": [
    "marker_genes = dict()\n",
    "\n",
    "# immune cells \n",
    "marker_genes['Immune_cells'] = ['CX3CR1', 'P2RY12', 'CCR6','CASP4','CXCL12','CD86','CD14', # miroglia\n",
    "                             'TMEM119', 'CASP8', # Microglia activated\n",
    "                             'PF4', 'CD74', # perivascular macrophages\n",
    "                             'PF4', # perivascular macrophages activated\n",
    "                            'HEXB','P2RY12','C1QA','C1QC','CTSS','C1QB','SIGLECH','GPR34','FCRLS'] #macrophages MCA  \n",
    "\n",
    "# Neurons\n",
    "marker_genes['Neurons'] = ['CBLN3','GABRA6', # Cerebellum neurons\n",
    "                               'PVALB','CNPY1', \n",
    "                               'SLC6A5', 'GRM2', 'LGI2', \n",
    "                                'SLC1A6', 'CAR8', \n",
    "                               'PVALB', 'KIT', \n",
    "                               'ST8SIA6','ADGRG2','MDGA1', 'OLFM1', # Hindbrain neurons\n",
    "                               'KLHL1','MREG','SPP1','NEFH',\n",
    "                               'KCNG4',\"GLRA1\", 'TFAP2B',\"CBLN4\",\n",
    "                              'EBF3','SEMA3A','NXPH4','TMEM72','GPR139',\n",
    "                              'SLC6A5','STAC2','VAMP1','SALL3',\n",
    "                              'LMX1A','RERG','TIAM2',# Immature neural \n",
    "                               'EBF2','EBF1','GLRA1', #spinal cord neurons\n",
    "                               'PAX2', 'NYAP2' ,'KCNMB2',\n",
    "                              'RSPO3', 'B3GAT2',\n",
    "                              'PAX6','CCSAP', # Telencephalon interneurons\n",
    "                              'NTF3','CPNE4','VIPR1','PDE1A','WFS1','VWC2L','CBLN1', #Telencephalon projecting neurons\n",
    "                               'CDKL4', 'LAMP5','KRT12',\n",
    "                           'MOXD1','TMEM255B','ASS1','ANXA11','NEFM','PAQR5', # PNS neurons\n",
    "                           'STAC','MREG','CLEC18A','TIAM2','GAD1','MEIS2','RBM24'] # From the developing atlas]\n",
    "\n",
    "                             \n",
    "marker_genes['Glia'] = ['TIMP4','GFAP', 'SLC7A10','MFSD2A','AGT','SLC6A11','CBS','FAM107A', #Astrocytes\n",
    "                       'TTR','FOLR1','CLIC6', #Choroid epithelial cells\n",
    "                       'HOPX', # Dentate gyrus radial glia-like cells\n",
    "                        'NEU4','RINL', 'CCP110','SNX33','OPALIN','NINJ2', #olygodendrocytes (OPC)\n",
    "                        'HAPLN2','DOCK5','KLK6','CNKSR3','TMEM2',\n",
    "                       'LUM','PARP14','COL12A1', # Neural crest-like glia\n",
    "                       'PDGFRA', 'C1QL1','TEX40','FBLN2','NCMAP',\n",
    "                       'LRRN1','ROR2', # radial glia development paper\n",
    "                        'MATN4','SCRG1','PLLP','GPR37L1','OLIG1','OLIG2','SOX10', # OPC dev paper\n",
    "                       \"SFRP5\", # Swann cells dev paper\n",
    "                        'ALX3','ALX4','CPED1',  #neural crest dev atlas\n",
    "                        'PLA2G7','SEMA4B','PPP1R3C', 'CYP2J9','ATP1B2', # astrocytes from dev paper\n",
    "                        'ALDOC','ATP1A2','GPR37L1','MT3','SLC1A3','PLA2G7', # Astrocytes form MC\n",
    "                       'MBP','MOBP','PTGDS']# Oligo MCA\n",
    "                       \n",
    "\n",
    "marker_genes['Vascular cells'] = ['HIGD1B','DEGS2','RGS5','FLT1','TBXA2R','CD93',# Pericytes\n",
    "                                 'MGP','SLC47A1','DAPL1','DCN','FAM180A','SLC6A13', #Vascular and leptomeningeal cells\n",
    "                                 'ECSCR','LY6C1',# Vascular endothelial cells\n",
    "                                 'KCNJ8','ANPEP','IGF2', # Vascular smooth muscle cells\n",
    "                                  'EMCN','CDH5','MYH11','SLC38A11'] # from the deveping atlas \n",
    "\n",
    "\n",
    "marker_genes['Epithelial cells'] = ['SLCO1A4', 'CLDN5','TTR', 'FN1','RAMP2','LY6C1', 'LY6A','CCDC153', 'GM973','PRLR','FOLR1']\n",
    "                                 "
   ]
  }
 ],
 "metadata": {
  "kernelspec": {
   "display_name": "Python 3",
   "language": "python",
   "name": "python3"
  },
  "language_info": {
   "codemirror_mode": {
    "name": "ipython",
    "version": 3
   },
   "file_extension": ".py",
   "mimetype": "text/x-python",
   "name": "python",
   "nbconvert_exporter": "python",
   "pygments_lexer": "ipython3",
   "version": "3.8.5"
  },
  "toc-autonumbering": false,
  "toc-showmarkdowntxt": false
 },
 "nbformat": 4,
 "nbformat_minor": 4
}
