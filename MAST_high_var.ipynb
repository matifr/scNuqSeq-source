{
 "cells": [
  {
   "cell_type": "markdown",
   "metadata": {},
   "source": [
    "# Import libraries"
   ]
  },
  {
   "cell_type": "code",
   "execution_count": 15,
   "metadata": {},
   "outputs": [
    {
     "name": "stdout",
     "output_type": "stream",
     "text": [
      "The autoreload extension is already loaded. To reload it, use:\n",
      "  %reload_ext autoreload\n"
     ]
    }
   ],
   "source": [
    "%load_ext autoreload\n",
    "%autoreload 2"
   ]
  },
  {
   "cell_type": "code",
   "execution_count": 16,
   "metadata": {},
   "outputs": [],
   "source": [
    "import numpy as np\n",
    "import numpy.matlib\n",
    "import pandas as pd\n",
    "import scanpy as sc\n",
    "from scanpy.external.pp import magic\n",
    "import scipy\n",
    "from sklearn.metrics import adjusted_rand_score\n",
    "from scipy.stats.mstats import zscore\n",
    "from scipy.stats import pearsonr\n",
    "import csv\n",
    "import os\n",
    "import matplotlib\n",
    "matplotlib.use('TkAgg')\n",
    "%matplotlib inline\n",
    "import matplotlib.pyplot as plt\n",
    "import seaborn as sns\n",
    "sns.set()\n",
    "from copy import deepcopy\n",
    "import timeit\n",
    "from joblib import Parallel, delayed\n",
    "from collections import Counter\n",
    "np.random.seed(0)"
   ]
  },
  {
   "cell_type": "code",
   "execution_count": 17,
   "metadata": {},
   "outputs": [],
   "source": [
    "def files_MAST(adata, cell_type = '', outdir = ''):\n",
    "    \n",
    "    # if directory doesn't exist, create it\n",
    "    if not os.path.exists('DEA/' + cell_type):\n",
    "        os.makedirs('DEA/' + cell_type)\n",
    "    \n",
    "    adata_celltype = deepcopy(adata_final)\n",
    "    adata_celltype = adata_celltype[adata_celltype.obs['final_subclusters'].isin([cell_type]),:]\n",
    "    print(cell_type + '\\t'+\"Dimensions\" + \"\\t\"+ \"{}\".format(adata_celltype.shape))\n",
    "    \n",
    "    # make a dataframe for the expression matrix\n",
    "    expmat = pd.DataFrame(adata_celltype.X, columns = adata_celltype.var.index, index = adata_celltype.obs.index)\n",
    "\n",
    "    # make a dataframe for the observation data\n",
    "    cdata = pd.DataFrame(adata_celltype.obs, columns=adata_celltype.obs.columns, index = adata_celltype.obs.index)\n",
    "\n",
    "    \n",
    "    expmat.to_csv(r'DEA/'+ cell_type + '/adata_'+ cell_type+ '_exp_mat.csv', index=True)\n",
    "    cdata.to_csv(r'DEA/'+ cell_type + '/adata_'+ cell_type+ '_cdata.csv', index=True)\n",
    "    \n",
    "    print(\"Files written for {}\".format(cell_type))"
   ]
  },
  {
   "cell_type": "raw",
   "metadata": {},
   "source": [
    "godsnot_64 = [\n",
    "    # \"#000000\",  # remove the black, as often, we have black colored annotation\n",
    "    \"#d9d929\", \"#1CE6FF\", \"#FF34FF\", \"#FF4A46\", \"#008941\", \"#006FA6\", \"#A30059\",\n",
    "    \"#FFDBE5\", \"#7A4900\", \"#0000A6\", \"#63FFAC\", \"#B79762\", \"#004D43\", \"#8FB0FF\", \"#997D87\",\n",
    "    \"#5A0007\", \"#809693\", \"#6A3A4C\", \"#1B4400\", \"#4FC601\", \"#3B5DFF\", \"#4A3B53\", \"#FF2F80\",\n",
    "    \"#61615A\", \"#BA0900\", \"#6B7900\", \"#00C2A0\", \"#FFAA92\", \"#FF90C9\", \"#B903AA\", \"#D16100\",\n",
    "    \"#DDEFFF\", \"#000035\", \"#7B4F4B\", \"#A1C299\", \"#300018\", \"#0AA6D8\", \"#013349\", \"#00846F\",\n",
    "    \"#372101\", \"#FFB500\", \"#C2FFED\", \"#A079BF\", \"#CC0744\", \"#C0B9B2\", \"#C2FF99\", \"#001E09\",\n",
    "    \"#00489C\", \"#6F0062\", \"#0CBD66\", \"#EEC3FF\", \"#456D75\", \"#B77B68\", \"#7A87A1\", \"#788D66\",\n",
    "    \"#885578\", \"#FAD09F\", \"#FF8A9A\", \"#D157A0\", \"#BEC459\", \"#456648\", \"#0086ED\", \"#886F4C\",\n",
    "    \"#34362D\", \"#B4A8BD\", \"#00A6AA\", \"#452C2C\", \"#636375\", \"#A3C8C9\", \"#FF913F\", \"#938A81\",\n",
    "    \"#575329\", \"#00FECF\", \"#B05B6F\", \"#8CD0FF\", \"#3B9700\", \"#04F757\", \"#C8A1A1\", \"#1E6E00\",\n",
    "    \"#7900D7\", \"#A77500\", \"#6367A9\", \"#A05837\", \"#6B002C\", \"#772600\", \"#D790FF\", \"#9B9700\",\n",
    "    \"#549E79\", \"#FFF69F\", \"#201625\", \"#72418F\", \"#BC23FF\", \"#99ADC0\", \"#3A2465\", \"#922329\",\n",
    "    \"#5B4534\", \"#FDE8DC\", \"#404E55\", \"#0089A3\", \"#CB7E98\", \"#A4E804\", \"#324E72\"]"
   ]
  },
  {
   "cell_type": "code",
   "execution_count": 18,
   "metadata": {},
   "outputs": [],
   "source": [
    "def files_MAST(adata, cell_type = '', outdir = ''):\n",
    "    \n",
    "    # if directory doesn't exist, create it\n",
    "    if not os.path.exists('DEA/' + cell_type):\n",
    "        os.makedirs('DEA/' + cell_type)\n",
    "    \n",
    "    adata_celltype = deepcopy(adata_final)\n",
    "    adata_celltype = adata_celltype[adata_celltype.obs['final_subclusters'].isin([cell_type]),:]\n",
    "    print(cell_type + '\\t'+\"Dimensions\" + \"\\t\"+ \"{}\".format(adata_celltype.shape))\n",
    "    \n",
    "    # make a dataframe for the expression matrix\n",
    "    expmat = pd.DataFrame(adata_celltype.X, columns = adata_celltype.var.index, index = adata_celltype.obs.index)\n",
    "\n",
    "    # make a dataframe for the observation data\n",
    "    cdata = pd.DataFrame(adata_celltype.obs, columns=adata_celltype.obs.columns, index = adata_celltype.obs.index)\n",
    "\n",
    "    \n",
    "    expmat.to_csv(r'DEA/'+ cell_type + '/adata_'+ cell_type+ '_exp_mat.csv', index=True)\n",
    "    cdata.to_csv(r'DEA/'+ cell_type + '/adata_'+ cell_type+ '_cdata.csv', index=True)\n",
    "    \n",
    "    print(\"Files written for {}\".format(cell_type))"
   ]
  },
  {
   "cell_type": "code",
   "execution_count": 19,
   "metadata": {},
   "outputs": [],
   "source": [
    "def run_MAST_for_celltype(adata, cell_type):\n",
    "    start_time = timeit.default_timer()\n",
    "    MAST = './runMAST.R'\n",
    "    \n",
    "    # run \n",
    "    files_MAST(adata = adata_final, cell_type = cell_type)\n",
    "    \n",
    "    expmat_Inputfile = ('DEA/'+ cell_type + '/adata_'+ cell_type+ '_exp_mat.csv')\n",
    "    cdata_Inputfile = ('DEA/'+ cell_type + '/adata_'+ cell_type+ '_cdata.csv')\n",
    "    output_file_cort = 'DEA/' +  cell_type + \"/MAST_DEA_\" + cell_type + \"_cort.csv\" \n",
    "    output_file_bs = 'DEA/' +  cell_type + \"/MAST_DEA_\" + cell_type + \"_bs.csv\" \n",
    "    \n",
    "    print(\"Running \" + MAST + \" \" + expmat_Inputfile + \" \" + cdata_Inputfile + \" \" + output_file_cort + \" \" + output_file_bs)\n",
    "    \n",
    "    os.system(MAST + \" \" + expmat_Inputfile + \" \" + cdata_Inputfile + \" \" + output_file_cort + \" \" + output_file_bs)\n",
    "    out_str = \"Finished running MAST on\"+ \"( \" + cell_type +  \")\" +\" in {} seconds.\".format(timeit.default_timer()-start_time)\n",
    "    \n",
    "    return out_str"
   ]
  },
  {
   "cell_type": "markdown",
   "metadata": {},
   "source": [
    "# Populate input parameters"
   ]
  },
  {
   "cell_type": "code",
   "execution_count": 20,
   "metadata": {
    "scrolled": true
   },
   "outputs": [],
   "source": [
    "# populate from command line\n",
    "samples = ['1819_C1029_Ctrl_ES_Cort_IGO_10837_23', '1820_C1029_Ctrl_ES_BS_IGO_10856_3', '1821_996_VE_ES_Cort_IGO_10875_6', '1822_996_VE_ES_BS_IGO_10875_7']\n",
    "indir = './input/'\n",
    "outdir = './output_Nov/'\n",
    "figures = './figures/'"
   ]
  },
  {
   "cell_type": "markdown",
   "metadata": {},
   "source": [
    "## Prepare data for MAST"
   ]
  },
  {
   "cell_type": "code",
   "execution_count": 21,
   "metadata": {},
   "outputs": [],
   "source": [
    "adata_final = sc.read_h5ad(outdir+'adata_final_high_var_final_clusters.h5ad')"
   ]
  },
  {
   "cell_type": "markdown",
   "metadata": {},
   "source": [
    "### Oligodendrocytes"
   ]
  },
  {
   "cell_type": "code",
   "execution_count": 9,
   "metadata": {},
   "outputs": [
    {
     "name": "stdout",
     "output_type": "stream",
     "text": [
      "Oligodendrocytes\tDimensions\t(4890, 18947)\n",
      "Files written for Oligodendrocytes\n",
      "Running ./runMAST.R DEA/Oligodendrocytes/adata_Oligodendrocytes_exp_mat.csv DEA/Oligodendrocytes/adata_Oligodendrocytes_cdata.csv DEA/Oligodendrocytes/MAST_DEA_Oligodendrocytes_cort.csv DEA/Oligodendrocytes/MAST_DEA_Oligodendrocytes_bs.csv\n"
     ]
    },
    {
     "data": {
      "text/plain": [
       "'Finished running MAST on( Oligodendrocytes) in 1212.92347419 seconds.'"
      ]
     },
     "execution_count": 9,
     "metadata": {},
     "output_type": "execute_result"
    }
   ],
   "source": [
    "run_MAST_for_celltype(adata_final, \"Oligodendrocytes\")"
   ]
  },
  {
   "cell_type": "markdown",
   "metadata": {},
   "source": [
    "### Microglia"
   ]
  },
  {
   "cell_type": "code",
   "execution_count": 8,
   "metadata": {},
   "outputs": [
    {
     "name": "stderr",
     "output_type": "stream",
     "text": [
      "/Users/fragkogs/opt/anaconda3/envs/std/lib/python3.8/site-packages/pandas/core/arrays/categorical.py:2487: FutureWarning: The `inplace` parameter in pandas.Categorical.remove_unused_categories is deprecated and will be removed in a future version.\n",
      "  res = method(*args, **kwargs)\n"
     ]
    },
    {
     "name": "stdout",
     "output_type": "stream",
     "text": [
      "microglia\tDimensions\t(697, 18947)\n",
      "Files written for microglia\n",
      "Running ./runMAST.R DEA/microglia/adata_microglia_exp_mat.csv DEA/microglia/adata_microglia_cdata.csv DEA/microglia/MAST_DEA_microglia_cort.csv DEA/microglia/MAST_DEA_microglia_bs.csv\n"
     ]
    },
    {
     "data": {
      "text/plain": [
       "'Finished running MAST on( microglia) in 389.58715040799996 seconds.'"
      ]
     },
     "execution_count": 8,
     "metadata": {},
     "output_type": "execute_result"
    }
   ],
   "source": [
    "run_MAST_for_celltype(adata_final, \"microglia\")"
   ]
  },
  {
   "cell_type": "markdown",
   "metadata": {},
   "source": [
    "### Astrocytes"
   ]
  },
  {
   "cell_type": "code",
   "execution_count": 10,
   "metadata": {},
   "outputs": [
    {
     "name": "stdout",
     "output_type": "stream",
     "text": [
      "Astrocytes\tDimensions\t(1716, 18947)\n",
      "Files written for Astrocytes\n",
      "Running ./runMAST.R DEA/Astrocytes/adata_Astrocytes_exp_mat.csv DEA/Astrocytes/adata_Astrocytes_cdata.csv DEA/Astrocytes/MAST_DEA_Astrocytes_cort.csv DEA/Astrocytes/MAST_DEA_Astrocytes_bs.csv\n"
     ]
    },
    {
     "data": {
      "text/plain": [
       "'Finished running MAST on( Astrocytes) in 570.1602463660001 seconds.'"
      ]
     },
     "execution_count": 10,
     "metadata": {},
     "output_type": "execute_result"
    }
   ],
   "source": [
    "run_MAST_for_celltype(adata_final, \"Astrocytes\")"
   ]
  },
  {
   "cell_type": "markdown",
   "metadata": {},
   "source": [
    "### OPC"
   ]
  },
  {
   "cell_type": "code",
   "execution_count": 14,
   "metadata": {},
   "outputs": [
    {
     "name": "stdout",
     "output_type": "stream",
     "text": [
      "OPC\tDimensions\t(496, 18947)\n",
      "Files written for OPC\n",
      "Running ./runMAST.R DEA/OPC/adata_OPC_exp_mat.csv DEA/OPC/adata_OPC_cdata.csv DEA/OPC/MAST_DEA_OPC_cort.csv DEA/OPC/MAST_DEA_OPC_bs.csv\n"
     ]
    },
    {
     "data": {
      "text/plain": [
       "'Finished running MAST on( OPC) in 337.31309115399927 seconds.'"
      ]
     },
     "execution_count": 14,
     "metadata": {},
     "output_type": "execute_result"
    }
   ],
   "source": [
    "run_MAST_for_celltype(adata_final, \"OPC\")"
   ]
  },
  {
   "cell_type": "markdown",
   "metadata": {},
   "source": [
    "### Excitatory_neurons"
   ]
  },
  {
   "cell_type": "code",
   "execution_count": 11,
   "metadata": {},
   "outputs": [
    {
     "name": "stdout",
     "output_type": "stream",
     "text": [
      "Excitatory_neurons\tDimensions\t(7232, 18947)\n",
      "Files written for Excitatory_neurons\n",
      "Running ./runMAST.R DEA/Excitatory_neurons/adata_Excitatory_neurons_exp_mat.csv DEA/Excitatory_neurons/adata_Excitatory_neurons_cdata.csv DEA/Excitatory_neurons/MAST_DEA_Excitatory_neurons_cort.csv DEA/Excitatory_neurons/MAST_DEA_Excitatory_neurons_bs.csv\n"
     ]
    },
    {
     "data": {
      "text/plain": [
       "'Finished running MAST on( Excitatory_neurons) in 1769.1670335070012 seconds.'"
      ]
     },
     "execution_count": 11,
     "metadata": {},
     "output_type": "execute_result"
    }
   ],
   "source": [
    "run_MAST_for_celltype(adata_final, \"Excitatory_neurons\")"
   ]
  },
  {
   "cell_type": "markdown",
   "metadata": {},
   "source": [
    "### Interneurons"
   ]
  },
  {
   "cell_type": "code",
   "execution_count": 12,
   "metadata": {},
   "outputs": [
    {
     "name": "stdout",
     "output_type": "stream",
     "text": [
      "Inhibitory_neurons\tDimensions\t(6821, 18947)\n",
      "Files written for Inhibitory_neurons\n",
      "Running ./runMAST.R DEA/Inhibitory_neurons/adata_Inhibitory_neurons_exp_mat.csv DEA/Inhibitory_neurons/adata_Inhibitory_neurons_cdata.csv DEA/Inhibitory_neurons/MAST_DEA_Inhibitory_neurons_cort.csv DEA/Inhibitory_neurons/MAST_DEA_Inhibitory_neurons_bs.csv\n"
     ]
    },
    {
     "data": {
      "text/plain": [
       "'Finished running MAST on( Inhibitory_neurons) in 1725.2382228970018 seconds.'"
      ]
     },
     "execution_count": 12,
     "metadata": {},
     "output_type": "execute_result"
    }
   ],
   "source": [
    "run_MAST_for_celltype(adata_final, \"Inhibitory_neurons\")"
   ]
  },
  {
   "cell_type": "markdown",
   "metadata": {},
   "source": [
    "### Vascular_Fibro_cells"
   ]
  },
  {
   "cell_type": "code",
   "execution_count": 13,
   "metadata": {},
   "outputs": [
    {
     "name": "stdout",
     "output_type": "stream",
     "text": [
      "Vascular_Fibro_cells\tDimensions\t(1165, 18947)\n",
      "Files written for Vascular_Fibro_cells\n",
      "Running ./runMAST.R DEA/Vascular_Fibro_cells/adata_Vascular_Fibro_cells_exp_mat.csv DEA/Vascular_Fibro_cells/adata_Vascular_Fibro_cells_cdata.csv DEA/Vascular_Fibro_cells/MAST_DEA_Vascular_Fibro_cells_cort.csv DEA/Vascular_Fibro_cells/MAST_DEA_Vascular_Fibro_cells_bs.csv\n"
     ]
    },
    {
     "data": {
      "text/plain": [
       "'Finished running MAST on( Vascular_Fibro_cells) in 477.68334943100126 seconds.'"
      ]
     },
     "execution_count": 13,
     "metadata": {},
     "output_type": "execute_result"
    }
   ],
   "source": [
    "run_MAST_for_celltype(adata_final, \"Vascular_Fibro_cells\") "
   ]
  },
  {
   "cell_type": "code",
   "execution_count": null,
   "metadata": {},
   "outputs": [],
   "source": []
  }
 ],
 "metadata": {
  "kernelspec": {
   "display_name": "Python 3",
   "language": "python",
   "name": "python3"
  },
  "language_info": {
   "codemirror_mode": {
    "name": "ipython",
    "version": 3
   },
   "file_extension": ".py",
   "mimetype": "text/x-python",
   "name": "python",
   "nbconvert_exporter": "python",
   "pygments_lexer": "ipython3",
   "version": "3.8.5"
  },
  "toc": {
   "base_numbering": 1,
   "nav_menu": {},
   "number_sections": true,
   "sideBar": true,
   "skip_h1_title": false,
   "title_cell": "Table of Contents",
   "title_sidebar": "Contents",
   "toc_cell": false,
   "toc_position": {},
   "toc_section_display": true,
   "toc_window_display": true
  }
 },
 "nbformat": 4,
 "nbformat_minor": 4
}
